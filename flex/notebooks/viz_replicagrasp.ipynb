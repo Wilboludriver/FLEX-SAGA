{
 "cells": [
  {
   "attachments": {},
   "cell_type": "markdown",
   "id": "505cf4b7",
   "metadata": {},
   "source": [
    "# Visualize random instances of the ReplicaGrasp dataset."
   ]
  },
  {
   "cell_type": "code",
   "execution_count": 10,
   "id": "43597d03",
   "metadata": {},
   "outputs": [
    {
     "ename": "NameError",
     "evalue": "name '_C' is not defined",
     "output_type": "error",
     "traceback": [
      "\u001b[0;31m---------------------------------------------------------------------------\u001b[0m",
      "\u001b[0;31mNameError\u001b[0m                                 Traceback (most recent call last)",
      "Cell \u001b[0;32mIn[10], line 5\u001b[0m\n\u001b[1;32m      2\u001b[0m \u001b[39mimport\u001b[39;00m \u001b[39msys\u001b[39;00m\u001b[39m,\u001b[39m \u001b[39mos\u001b[39;00m\n\u001b[1;32m      3\u001b[0m sys\u001b[39m.\u001b[39mpath\u001b[39m.\u001b[39mappend(\u001b[39m'\u001b[39m\u001b[39m../../\u001b[39m\u001b[39m'\u001b[39m)\n\u001b[0;32m----> 5\u001b[0m \u001b[39mfrom\u001b[39;00m \u001b[39mflex\u001b[39;00m\u001b[39m.\u001b[39;00m\u001b[39mtools\u001b[39;00m\u001b[39m.\u001b[39;00m\u001b[39mutils\u001b[39;00m \u001b[39mimport\u001b[39;00m get_ground, rotmat2aa\n\u001b[1;32m      6\u001b[0m \u001b[39mfrom\u001b[39;00m \u001b[39mpsbody\u001b[39;00m\u001b[39m.\u001b[39;00m\u001b[39mmesh\u001b[39;00m\u001b[39m.\u001b[39;00m\u001b[39mcolors\u001b[39;00m \u001b[39mimport\u001b[39;00m name_to_rgb\n\u001b[1;32m      7\u001b[0m \u001b[39mfrom\u001b[39;00m \u001b[39mflex\u001b[39;00m\u001b[39m.\u001b[39;00m\u001b[39mtools\u001b[39;00m\u001b[39m.\u001b[39;00m\u001b[39mconfig\u001b[39;00m \u001b[39mimport\u001b[39;00m Config\n",
      "File \u001b[0;32m~/FLEX-SAGA/flex/notebooks/../../flex/tools/utils.py:4\u001b[0m\n\u001b[1;32m      1\u001b[0m \u001b[39m\"\"\"Useful utils during training / visualization.\u001b[39;00m\n\u001b[1;32m      2\u001b[0m \u001b[39m\"\"\"\u001b[39;00m\n\u001b[1;32m      3\u001b[0m \u001b[39mimport\u001b[39;00m \u001b[39mmatplotlib\u001b[39;00m\u001b[39m.\u001b[39;00m\u001b[39mpyplot\u001b[39;00m \u001b[39mas\u001b[39;00m \u001b[39mplt\u001b[39;00m\n\u001b[0;32m----> 4\u001b[0m \u001b[39mimport\u001b[39;00m \u001b[39mtorch\u001b[39;00m\u001b[39m.\u001b[39;00m\u001b[39mnn\u001b[39;00m\u001b[39m.\u001b[39;00m\u001b[39mfunctional\u001b[39;00m \u001b[39mas\u001b[39;00m \u001b[39mF\u001b[39;00m\n\u001b[1;32m      5\u001b[0m \u001b[39mimport\u001b[39;00m \u001b[39mchamfer_distance\u001b[39;00m \u001b[39mas\u001b[39;00m \u001b[39mchd\u001b[39;00m\n\u001b[1;32m      6\u001b[0m \u001b[39mfrom\u001b[39;00m \u001b[39mpsbody\u001b[39;00m\u001b[39m.\u001b[39;00m\u001b[39mmesh\u001b[39;00m \u001b[39mimport\u001b[39;00m Mesh\n",
      "File \u001b[0;32m~/grasp/lib/python3.8/site-packages/torch/__init__.py:233\u001b[0m\n\u001b[1;32m    219\u001b[0m         \u001b[39mraise\u001b[39;00m \u001b[39mImportError\u001b[39;00m(textwrap\u001b[39m.\u001b[39mdedent(\u001b[39m'''\u001b[39m\n\u001b[1;32m    220\u001b[0m \u001b[39m            Failed to load PyTorch C extensions:\u001b[39m\n\u001b[1;32m    221\u001b[0m \u001b[39m                It appears that PyTorch has loaded the `torch/_C` folder\u001b[39m\n\u001b[0;32m   (...)\u001b[0m\n\u001b[1;32m    229\u001b[0m \u001b[39m                or by running Python from a different directory.\u001b[39m\n\u001b[1;32m    230\u001b[0m \u001b[39m            \u001b[39m\u001b[39m'''\u001b[39m)\u001b[39m.\u001b[39mstrip()) \u001b[39mfrom\u001b[39;00m \u001b[39mNone\u001b[39;00m\n\u001b[1;32m    231\u001b[0m     \u001b[39mraise\u001b[39;00m  \u001b[39m# If __file__ is not None the cause is unknown, so just re-raise.\u001b[39;00m\n\u001b[0;32m--> 233\u001b[0m \u001b[39mfor\u001b[39;00m name \u001b[39min\u001b[39;00m \u001b[39mdir\u001b[39m(_C):\n\u001b[1;32m    234\u001b[0m     \u001b[39mif\u001b[39;00m name[\u001b[39m0\u001b[39m] \u001b[39m!=\u001b[39m \u001b[39m'\u001b[39m\u001b[39m_\u001b[39m\u001b[39m'\u001b[39m \u001b[39mand\u001b[39;00m \u001b[39mnot\u001b[39;00m name\u001b[39m.\u001b[39mendswith(\u001b[39m'\u001b[39m\u001b[39mBase\u001b[39m\u001b[39m'\u001b[39m):\n\u001b[1;32m    235\u001b[0m         __all__\u001b[39m.\u001b[39mappend(name)\n",
      "\u001b[0;31mNameError\u001b[0m: name '_C' is not defined"
     ]
    }
   ],
   "source": [
    "# Imports.\n",
    "import sys, os\n",
    "sys.path.append('../../')\n",
    "\n",
    "from flex.tools.utils import get_ground, rotmat2aa\n",
    "from psbody.mesh.colors import name_to_rgb\n",
    "from flex.tools.config import Config\n",
    "from omegaconf import OmegaConf\n",
    "from psbody.mesh import Mesh\n",
    "import meshplot as mp\n",
    "import numpy as np\n",
    "import random\n",
    "import smplx\n",
    "import torch\n",
    "import mano\n",
    "\n",
    "random.seed(123)"
   ]
  },
  {
   "cell_type": "code",
   "execution_count": 7,
   "id": "ce54fd76",
   "metadata": {},
   "outputs": [
    {
     "data": {
      "text/plain": [
       "['/cluster/scratch/zhangzhen/FLEX-SAGA/flex/notebooks',\n",
       " '/cluster/scratch/zhangzhen/grasp/lib/python38.zip',\n",
       " '/cluster/scratch/zhangzhen/grasp/lib/python3.8/site-packages',\n",
       " '/cluster/scratch/zhangzhen/grasp/lib/python3.8/lib-dynload',\n",
       " '',\n",
       " '/cluster/scratch/zhangzhen/.local/lib/python3.8/site-packages',\n",
       " '/cluster/scratch/zhangzhen/grasp/lib/python3.8/site-packages']"
      ]
     },
     "execution_count": 7,
     "metadata": {},
     "output_type": "execute_result"
    }
   ],
   "source": [
    "import sys\n",
    "import sys, os\n",
    "sys.path[2] = '/cluster/scratch/zhangzhen/grasp/lib/python3.8/site-packages'\n",
    "sys.path\n",
    "\n"
   ]
  },
  {
   "cell_type": "code",
   "execution_count": null,
   "id": "36c9eeb8",
   "metadata": {},
   "outputs": [],
   "source": [
    "# Configurations (objects, receptacles, orientations, instances)\n",
    "grab_objs = ['binoculars', 'wineglass', 'toothpaste',\n",
    "             'fryingpan', 'elephant', 'apple', 'toothbrush',\n",
    "             'cylindersmall', 'train', 'spheresmall', 'stapler',\n",
    "             'waterbottle', 'pyramidlarge', 'hammer', 'phone', 'airplane',\n",
    "             'toruslarge', 'piggybank', 'alarmclock', 'pyramidmedium', 'mouse',\n",
    "             'headphones', 'cylinderlarge', 'spheremedium', 'stamp',\n",
    "             'cubesmall', 'stanfordbunny', 'torussmall', 'cubelarge', 'watch',\n",
    "             'spherelarge', 'duck', 'torusmedium', 'flute', 'flashlight',\n",
    "             'cubemedium', 'scissors', 'gamecontroller', 'teapot', 'banana',\n",
    "             'cylindermedium', 'knife', 'eyeglasses', 'pyramidsmall', 'lightbulb',\n",
    "             'bowl', 'camera', 'cup', 'mug', 'hand']\n",
    "receptacles = ['receptacle_aabb_Chr1_Top1_frl_apartment_chair_01', 'receptacle_aabb_Sofa_frl_apartment_sofa', 'receptacle_aabb_Tbl1_Top1_frl_apartment_table_01', 'receptacle_aabb_Tbl2_Top1_frl_apartment_table_02', 'receptacle_aabb_Tbl2_Top2_frl_apartment_table_02', 'receptacle_aabb_Tbl2_Top3_frl_apartment_table_02', 'receptacle_aabb_TvStnd1_Top1_frl_apartment_tvstand', 'receptacle_aabb_TvStnd1_Top2_frl_apartment_tvstand', 'receptacle_aabb_TvStnd1_Top3_frl_apartment_tvstand', 'receptacle_aabb_WC1_Top1frl_apartment_wall_cabinet_01', 'receptacle_aabb_WC1_Top2frl_apartment_wall_cabinet_01', 'receptacle_aabb_WC1_Top3frl_apartment_wall_cabinet_01', 'receptacle_aabb_WC1_Top4frl_apartment_wall_cabinet_01', 'receptacle_aabb_WC1_Top5frl_apartment_wall_cabinet_01', 'receptacle_aabb_WC1_Top6frl_apartment_wall_cabinet_01', 'receptacle_aabb_WC2_Top1_frl_apartment_wall_cabinet_02', 'receptacle_aabb_WC2_Top2_frl_apartment_wall_cabinet_02', 'receptacle_aabb_WC2_Top3_frl_apartment_wall_cabinet_02', 'receptacle_aabb_WC2_Top4_frl_apartment_wall_cabinet_02', 'receptacle_aabb_WC2_Top5_frl_apartment_wall_cabinet_02', 'receptacle_aabb_WC2_Top6_frl_apartment_wall_cabinet_02', 'receptacle_aabb_bottomfrl_apartment_refrigerator', 'receptacle_aabb_middle_bottomfrl_apartment_refrigerator', 'receptacle_aabb_middle_topfrl_apartment_refrigerator', 'receptacle_aabb_middlefrl_apartment_refrigerator', 'receptacle_aabb_topfrl_apartment_refrigerator', 'receptacle_aabb_shelf_center_bottom_left_kitchenCupboard_01', 'receptacle_aabb_shelf_center_bottom_right_kitchenCupboard_01', 'receptacle_aabb_shelf_center_middle_left_kitchenCupboard_01', 'receptacle_aabb_shelf_center_middle_right_kitchenCupboard_01', 'receptacle_aabb_shelf_center_top_left_kitchenCupboard_01', 'receptacle_aabb_shelf_center_top_right_kitchenCupboard_01', 'receptacle_aabb_shelf_left_bottom_kitchenCupboard_01', 'receptacle_aabb_shelf_left_middle_kitchenCupboard_01', 'receptacle_aabb_shelf_left_top_kitchenCupboard_01', 'receptacle_aabb_shelf_right_bottom_kitchenCupboard_01', 'receptacle_aabb_shelf_right_middle_kitchenCupboard_01', 'receptacle_aabb_shelf_right_top_kitchenCupboard_01', 'receptacle_aabb_counter_left_kitchen_counter', 'receptacle_aabb_counter_right_kitchen_counter', 'receptacle_aabb_drawer_left_bottom_frl_apartment_kitchen_counter', 'receptacle_aabb_drawer_left_top_frl_apartment_kitchen_counter', 'receptacle_aabb_drawer_middle_bottom_frl_apartment_kitchen_counter', 'receptacle_aabb_drawer_middle_middle_frl_apartment_kitchen_counter', 'receptacle_aabb_drawer_middle_top_frl_apartment_kitchen_counter', 'receptacle_aabb_drawer_right_bottom_frl_apartment_kitchen_counter', 'receptacle_aabb_drawer_right_top_frl_apartment_kitchen_counter', 'receptacle_aabb_sink_kitchen_counter']\n",
    "orients = ['up', 'all']\n",
    "idxs = list(range(2))\n",
    "\n",
    "# Load dataset.\n",
    "recept_dict = dict(np.load('../../data/replicagrasp/receptacles.npz', allow_pickle=1))\n",
    "dset_info_dict = dict(np.load('../../data/replicagrasp/dset_info.npz', allow_pickle=1))\n",
    "\n",
    "# Load mesh path.\n",
    "mesh_pth = '../../data/obj/contact_meshes/'"
   ]
  },
  {
   "cell_type": "code",
   "execution_count": null,
   "id": "206b416f",
   "metadata": {},
   "outputs": [],
   "source": [
    "i = 0\n",
    "while i < 10:\n",
    "    \n",
    "    # ---> Load data.\n",
    "    obj_name, ornt, recept, ind = random.choice(grab_objs), random.choice(orients), random.choice(receptacles), random.choice(idxs)\n",
    "    print(obj_name, ornt, recept, ind)    \n",
    "    transl_grab, orient_grab, recept_idx = dset_info_dict[f'{obj_name}_{recept}_{ornt}_{ind}']\n",
    "    recept_v, recept_f = recept_dict[recept][recept_idx][0], recept_dict[recept][recept_idx][1]\n",
    "\n",
    "    # ---> Visualize receptacle meshes in scene.\n",
    "    mp_viewer = mp.plot(recept_v, recept_f, name_to_rgb['yellow'])\n",
    "\n",
    "    # ---> Visualize ground for context (center it to mean of rigid/articulated object).\n",
    "    grnd_mesh = get_ground(grnd_size=10, offset=0.0)\n",
    "    xmean, ymean, _ = recept_v.mean(0)\n",
    "    grnd_mesh.v[:, 0] += xmean\n",
    "    grnd_mesh.v[:, 1] += ymean\n",
    "    mp_viewer.add_mesh(grnd_mesh.v, grnd_mesh.f, name_to_rgb['brown'])\n",
    "\n",
    "    # ---> Visualize object to be grasped in scene.\n",
    "    object_mesh = Mesh(filename=os.path.join(mesh_pth, obj_name + '.ply'), vscale=1.)\n",
    "    obj_verts = np.matmul(object_mesh.v, orient_grab.T) + transl_grab\n",
    "    mp_viewer.add_mesh(obj_verts, object_mesh.f, name_to_rgb['blue'])\n",
    "    \n",
    "    i += 1\n",
    "\n",
    "print(\"Done!\")"
   ]
  }
 ],
 "metadata": {
  "kernelspec": {
   "display_name": "Python 3",
   "language": "python",
   "name": "python3"
  },
  "language_info": {
   "codemirror_mode": {
    "name": "ipython",
    "version": 3
   },
   "file_extension": ".py",
   "mimetype": "text/x-python",
   "name": "python",
   "nbconvert_exporter": "python",
   "pygments_lexer": "ipython3",
   "version": "3.8.16"
  }
 },
 "nbformat": 4,
 "nbformat_minor": 5
}
